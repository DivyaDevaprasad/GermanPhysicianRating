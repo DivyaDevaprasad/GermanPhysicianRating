{
 "cells": [
  {
   "cell_type": "code",
   "execution_count": 1,
   "metadata": {},
   "outputs": [],
   "source": [
    "import pandas as pd\n",
    "import re \n",
    "\n",
    "from scipy.stats import median_test\n",
    "from scipy.stats import mannwhitneyu\n",
    "from scipy.stats import kruskal\n",
    "        \n",
    "alpha = 0.05\n",
    "\n",
    "import warnings\n",
    "warnings.filterwarnings('ignore')"
   ]
  },
  {
   "cell_type": "code",
   "execution_count": 2,
   "metadata": {},
   "outputs": [],
   "source": [
    "def print_result(p):\n",
    "    if p > alpha:\n",
    "        print(\"p-val:\",p,'Same distributions (fail to reject H0)')\n",
    "    else:\n",
    "        print(\"p-val:\",p,'Different distributions (reject H0)')\n",
    "        \n",
    "def check_hypo(df1, col1 , df2, col2):\n",
    "    print(\"\\n From Median Test:\")\n",
    "    stat, p, med, tbl = median_test(df1[col1], df2[col2])\n",
    "    print_result(p)\n",
    "    print(\"\\n From Mann-Whitney U Test:\")\n",
    "    stat, p = mannwhitneyu(df1[col1], df2[col2])\n",
    "    print_result(p)\n",
    "    print(\"\\n From Kruskal-Wallis H Test\")\n",
    "    stat, p = kruskal(df1[col1], df2[col2])\n",
    "    print_result(p)"
   ]
  },
  {
   "cell_type": "code",
   "execution_count": 3,
   "metadata": {},
   "outputs": [],
   "source": [
    "doc_pat_data = pd.read_csv(\"Final_dataset.csv\")"
   ]
  },
  {
   "cell_type": "markdown",
   "metadata": {},
   "source": [
    "# Doctors with high popularity receive better grades based on:\n",
    "## Doctors who have more recommendations from colleagues"
   ]
  },
  {
   "cell_type": "code",
   "execution_count": 4,
   "metadata": {},
   "outputs": [
    {
     "name": "stdout",
     "output_type": "stream",
     "text": [
      "\n",
      " From Median Test:\n",
      "p-val: 0.0 Different distributions (reject H0)\n",
      "\n",
      " From Mann-Whitney U Test:\n",
      "p-val: 0.0 Different distributions (reject H0)\n",
      "\n",
      " From Kruskal-Wallis H Test\n",
      "p-val: 1.0 Same distributions (fail to reject H0)\n"
     ]
    }
   ],
   "source": [
    "check_hypo(doc_pat_data,\"grade_x\",doc_pat_data,\"colleagueRecommendations\")"
   ]
  },
  {
   "cell_type": "markdown",
   "metadata": {},
   "source": [
    "## Doctors with more recommendations from patients"
   ]
  },
  {
   "cell_type": "code",
   "execution_count": 5,
   "metadata": {},
   "outputs": [
    {
     "name": "stdout",
     "output_type": "stream",
     "text": [
      "\n",
      " From Median Test:\n",
      "p-val: 0.0 Different distributions (reject H0)\n",
      "\n",
      " From Mann-Whitney U Test:\n",
      "p-val: 0.0 Different distributions (reject H0)\n",
      "\n",
      " From Kruskal-Wallis H Test\n",
      "p-val: 0.0 Different distributions (reject H0)\n"
     ]
    }
   ],
   "source": [
    "doc_pat_data[\"recommendations\"].isna().sum()\n",
    "\n",
    "recomm_vs_grade = doc_pat_data[doc_pat_data[\"recommendations\"].notna()]\n",
    "recomm_vs_grade[\"recommend_percent\"] = recomm_vs_grade[\"recommendations\"].apply(lambda x: int(x[:-1]))\n",
    "\n",
    "check_hypo(recomm_vs_grade, \"grade_x\",recomm_vs_grade,\"recommend_percent\" )"
   ]
  },
  {
   "cell_type": "markdown",
   "metadata": {},
   "source": [
    "## Doctors with more views on their profile"
   ]
  },
  {
   "cell_type": "code",
   "execution_count": 6,
   "metadata": {},
   "outputs": [
    {
     "name": "stdout",
     "output_type": "stream",
     "text": [
      "\n",
      " From Median Test:\n",
      "p-val: 0.0 Different distributions (reject H0)\n",
      "\n",
      " From Mann-Whitney U Test:\n",
      "p-val: 0.0 Different distributions (reject H0)\n",
      "\n",
      " From Kruskal-Wallis H Test\n",
      "p-val: 1.0 Same distributions (fail to reject H0)\n"
     ]
    }
   ],
   "source": [
    "check_hypo(doc_pat_data, \"grade_x\",doc_pat_data,\"views\")"
   ]
  },
  {
   "cell_type": "markdown",
   "metadata": {},
   "source": [
    "## Doctors who have more reviews"
   ]
  },
  {
   "cell_type": "code",
   "execution_count": 7,
   "metadata": {},
   "outputs": [
    {
     "name": "stdout",
     "output_type": "stream",
     "text": [
      "\n",
      " From Median Test:\n",
      "p-val: 0.0 Different distributions (reject H0)\n",
      "\n",
      " From Mann-Whitney U Test:\n",
      "p-val: 0.0 Different distributions (reject H0)\n",
      "\n",
      " From Kruskal-Wallis H Test\n",
      "p-val: 1.0 Same distributions (fail to reject H0)\n"
     ]
    }
   ],
   "source": [
    "check_hypo(doc_pat_data,\"grade_x\", doc_pat_data,\"reviewsCount\")"
   ]
  },
  {
   "cell_type": "markdown",
   "metadata": {},
   "source": [
    "## Doctors with a greater number of likes on their profile"
   ]
  },
  {
   "cell_type": "code",
   "execution_count": 8,
   "metadata": {},
   "outputs": [
    {
     "name": "stdout",
     "output_type": "stream",
     "text": [
      "\n",
      " From Median Test:\n",
      "p-val: 0.0 Different distributions (reject H0)\n",
      "\n",
      " From Mann-Whitney U Test:\n",
      "p-val: 0.0 Different distributions (reject H0)\n",
      "\n",
      " From Kruskal-Wallis H Test\n",
      "p-val: 0.0 Different distributions (reject H0)\n"
     ]
    }
   ],
   "source": [
    "# doc_pat_data[\"likes\"].isna().sum() #considering only profiles available with likes! filtering kssing values  \n",
    "\n",
    "profiles_with_likes = doc_pat_data[doc_pat_data[\"likes\"].notna()] \n",
    "check_hypo(profiles_with_likes,\"grade_x\", profiles_with_likes,\"likes\")"
   ]
  },
  {
   "cell_type": "markdown",
   "metadata": {},
   "source": [
    "# Female doctors have better grades than male doctors."
   ]
  },
  {
   "cell_type": "code",
   "execution_count": 9,
   "metadata": {},
   "outputs": [],
   "source": [
    "male_gen_phy = doc_pat_data[doc_pat_data[\"gender\"].isin(['MALE'])]\n",
    "female_gen_phy = doc_pat_data[doc_pat_data[\"gender\"].isin(['FEMALE'])]"
   ]
  },
  {
   "cell_type": "code",
   "execution_count": 10,
   "metadata": {},
   "outputs": [
    {
     "name": "stdout",
     "output_type": "stream",
     "text": [
      "\n",
      " From Median Test:\n",
      "p-val: 8.746403126515193e-70 Different distributions (reject H0)\n",
      "\n",
      " From Mann-Whitney U Test:\n",
      "p-val: 4.375394878891139e-37 Different distributions (reject H0)\n",
      "\n",
      " From Kruskal-Wallis H Test\n",
      "p-val: 1.0 Same distributions (fail to reject H0)\n"
     ]
    }
   ],
   "source": [
    "check_hypo(male_gen_phy,\"grade_x\", female_gen_phy,\"grade_x\")"
   ]
  },
  {
   "cell_type": "markdown",
   "metadata": {},
   "source": [
    "# Doctors with higher qualifications get better grades."
   ]
  },
  {
   "cell_type": "code",
   "execution_count": 11,
   "metadata": {},
   "outputs": [
    {
     "data": {
      "text/plain": [
       "array([nan, 'Dr. med.', 'Dipl.-Med.', 'Prof. Dr. med.', 'Dr.',\n",
       "       'MR Dr. med.', 'OMR Dr. med.', 'Dr.h.c.', 'Dr. Dr. med.',\n",
       "       'Dr. rer.nat.', 'Dr. Dr.', 'Dipl.-Psych.', 'Prof. Dr. Dr. med.',\n",
       "       'Dr. med. M.Sc.', 'Dr. med. habil.', 'Dr. phil.nat.',\n",
       "       'Priv.-Doz. Dr. med.', 'MD Dr. med.', 'M.Sc.', 'Prof.',\n",
       "       'Dr. Dr. phil.', 'Dr. phil.', 'Priv.-Doz. Dr. Dr.'], dtype=object)"
      ]
     },
     "execution_count": 11,
     "metadata": {},
     "output_type": "execute_result"
    }
   ],
   "source": [
    "doc_pat_data[\"name_title\"].unique()"
   ]
  },
  {
   "cell_type": "code",
   "execution_count": 13,
   "metadata": {},
   "outputs": [],
   "source": [
    "# doc_pat_data[\"name_title\"].isna().sum()\n",
    "\n",
    "dr_or_not = doc_pat_data[doc_pat_data[\"name_title\"].notna()]\n",
    "# qualified_doc = dr_or_not[dr_or_not[\"name_title\"].str.match('Dr.')]\n",
    "dr_or_not[\"high_qual\"] = dr_or_not[\"name_title\"].apply(lambda x: 1 if 'Dr.' in x else 0)"
   ]
  },
  {
   "cell_type": "code",
   "execution_count": 14,
   "metadata": {},
   "outputs": [
    {
     "name": "stdout",
     "output_type": "stream",
     "text": [
      "\n",
      " From Median Test:\n",
      "p-val: 0.0 Different distributions (reject H0)\n",
      "\n",
      " From Mann-Whitney U Test:\n",
      "p-val: 0.0 Different distributions (reject H0)\n",
      "\n",
      " From Kruskal-Wallis H Test\n",
      "p-val: 1.0 Same distributions (fail to reject H0)\n"
     ]
    }
   ],
   "source": [
    "check_hypo(dr_or_not,\"grade_x\", dr_or_not,\"high_qual\")"
   ]
  },
  {
   "cell_type": "markdown",
   "metadata": {},
   "source": [
    "# Doctors who provide good services receive better grades based on:\n",
    "## Doctors who give an online appointment\n"
   ]
  },
  {
   "cell_type": "code",
   "execution_count": 17,
   "metadata": {},
   "outputs": [
    {
     "name": "stdout",
     "output_type": "stream",
     "text": [
      "\n",
      " From Median Test:\n"
     ]
    },
    {
     "ename": "TypeError",
     "evalue": "'<' not supported between instances of 'str' and 'float'",
     "output_type": "error",
     "traceback": [
      "\u001b[1;31m---------------------------------------------------------------------------\u001b[0m",
      "\u001b[1;31mTypeError\u001b[0m                                 Traceback (most recent call last)",
      "\u001b[1;32m<ipython-input-17-23efdf9151ab>\u001b[0m in \u001b[0;36m<module>\u001b[1;34m\u001b[0m\n\u001b[0;32m      3\u001b[0m \u001b[0mgraded_docs\u001b[0m \u001b[1;33m=\u001b[0m \u001b[0mdata\u001b[0m\u001b[1;33m[\u001b[0m\u001b[0mdata\u001b[0m\u001b[1;33m[\u001b[0m\u001b[1;34m\"grade\"\u001b[0m\u001b[1;33m]\u001b[0m\u001b[1;33m.\u001b[0m\u001b[0mnotna\u001b[0m\u001b[1;33m(\u001b[0m\u001b[1;33m)\u001b[0m \u001b[1;33m&\u001b[0m \u001b[0mdata\u001b[0m\u001b[1;33m[\u001b[0m\u001b[1;34m\"otvCustomerType\"\u001b[0m\u001b[1;33m]\u001b[0m\u001b[1;33m.\u001b[0m\u001b[0mnotna\u001b[0m\u001b[1;33m(\u001b[0m\u001b[1;33m)\u001b[0m\u001b[1;33m]\u001b[0m\u001b[1;33m\u001b[0m\u001b[1;33m\u001b[0m\u001b[0m\n\u001b[0;32m      4\u001b[0m \u001b[1;33m\u001b[0m\u001b[0m\n\u001b[1;32m----> 5\u001b[1;33m \u001b[0mcheck_hypo\u001b[0m\u001b[1;33m(\u001b[0m\u001b[0mgraded_docs\u001b[0m\u001b[1;33m,\u001b[0m\u001b[1;34m\"grade\"\u001b[0m\u001b[1;33m,\u001b[0m \u001b[0mgraded_docs\u001b[0m\u001b[1;33m,\u001b[0m\u001b[1;34m\"otvCustomerType\"\u001b[0m\u001b[1;33m)\u001b[0m\u001b[1;33m\u001b[0m\u001b[1;33m\u001b[0m\u001b[0m\n\u001b[0m",
      "\u001b[1;32m<ipython-input-2-84d15b6a30fd>\u001b[0m in \u001b[0;36mcheck_hypo\u001b[1;34m(df1, col1, df2, col2)\u001b[0m\n\u001b[0;32m      7\u001b[0m \u001b[1;32mdef\u001b[0m \u001b[0mcheck_hypo\u001b[0m\u001b[1;33m(\u001b[0m\u001b[0mdf1\u001b[0m\u001b[1;33m,\u001b[0m \u001b[0mcol1\u001b[0m \u001b[1;33m,\u001b[0m \u001b[0mdf2\u001b[0m\u001b[1;33m,\u001b[0m \u001b[0mcol2\u001b[0m\u001b[1;33m)\u001b[0m\u001b[1;33m:\u001b[0m\u001b[1;33m\u001b[0m\u001b[1;33m\u001b[0m\u001b[0m\n\u001b[0;32m      8\u001b[0m     \u001b[0mprint\u001b[0m\u001b[1;33m(\u001b[0m\u001b[1;34m\"\\n From Median Test:\"\u001b[0m\u001b[1;33m)\u001b[0m\u001b[1;33m\u001b[0m\u001b[1;33m\u001b[0m\u001b[0m\n\u001b[1;32m----> 9\u001b[1;33m     \u001b[0mstat\u001b[0m\u001b[1;33m,\u001b[0m \u001b[0mp\u001b[0m\u001b[1;33m,\u001b[0m \u001b[0mmed\u001b[0m\u001b[1;33m,\u001b[0m \u001b[0mtbl\u001b[0m \u001b[1;33m=\u001b[0m \u001b[0mmedian_test\u001b[0m\u001b[1;33m(\u001b[0m\u001b[0mdf1\u001b[0m\u001b[1;33m[\u001b[0m\u001b[0mcol1\u001b[0m\u001b[1;33m]\u001b[0m\u001b[1;33m,\u001b[0m \u001b[0mdf2\u001b[0m\u001b[1;33m[\u001b[0m\u001b[0mcol2\u001b[0m\u001b[1;33m]\u001b[0m\u001b[1;33m)\u001b[0m\u001b[1;33m\u001b[0m\u001b[1;33m\u001b[0m\u001b[0m\n\u001b[0m\u001b[0;32m     10\u001b[0m     \u001b[0mprint_result\u001b[0m\u001b[1;33m(\u001b[0m\u001b[0mp\u001b[0m\u001b[1;33m)\u001b[0m\u001b[1;33m\u001b[0m\u001b[1;33m\u001b[0m\u001b[0m\n\u001b[0;32m     11\u001b[0m     \u001b[0mprint\u001b[0m\u001b[1;33m(\u001b[0m\u001b[1;34m\"\\n From Mann-Whitney U Test:\"\u001b[0m\u001b[1;33m)\u001b[0m\u001b[1;33m\u001b[0m\u001b[1;33m\u001b[0m\u001b[0m\n",
      "\u001b[1;32m~\\Anaconda3\\lib\\site-packages\\scipy\\stats\\morestats.py\u001b[0m in \u001b[0;36mmedian_test\u001b[1;34m(*args, **kwds)\u001b[0m\n\u001b[0;32m   2984\u001b[0m         \u001b[0mgrand_median\u001b[0m \u001b[1;33m=\u001b[0m \u001b[0mnp\u001b[0m\u001b[1;33m.\u001b[0m\u001b[0mmedian\u001b[0m\u001b[1;33m(\u001b[0m\u001b[0mcdata\u001b[0m\u001b[1;33m[\u001b[0m\u001b[1;33m~\u001b[0m\u001b[0mnp\u001b[0m\u001b[1;33m.\u001b[0m\u001b[0misnan\u001b[0m\u001b[1;33m(\u001b[0m\u001b[0mcdata\u001b[0m\u001b[1;33m)\u001b[0m\u001b[1;33m]\u001b[0m\u001b[1;33m)\u001b[0m\u001b[1;33m\u001b[0m\u001b[1;33m\u001b[0m\u001b[0m\n\u001b[0;32m   2985\u001b[0m     \u001b[1;32melse\u001b[0m\u001b[1;33m:\u001b[0m\u001b[1;33m\u001b[0m\u001b[1;33m\u001b[0m\u001b[0m\n\u001b[1;32m-> 2986\u001b[1;33m         \u001b[0mgrand_median\u001b[0m \u001b[1;33m=\u001b[0m \u001b[0mnp\u001b[0m\u001b[1;33m.\u001b[0m\u001b[0mmedian\u001b[0m\u001b[1;33m(\u001b[0m\u001b[0mcdata\u001b[0m\u001b[1;33m)\u001b[0m\u001b[1;33m\u001b[0m\u001b[1;33m\u001b[0m\u001b[0m\n\u001b[0m\u001b[0;32m   2987\u001b[0m     \u001b[1;31m# When the minimum version of numpy supported by scipy is 1.9.0,\u001b[0m\u001b[1;33m\u001b[0m\u001b[1;33m\u001b[0m\u001b[1;33m\u001b[0m\u001b[0m\n\u001b[0;32m   2988\u001b[0m     \u001b[1;31m# the above if/else statement can be replaced by the single line:\u001b[0m\u001b[1;33m\u001b[0m\u001b[1;33m\u001b[0m\u001b[1;33m\u001b[0m\u001b[0m\n",
      "\u001b[1;32m~\\Anaconda3\\lib\\site-packages\\numpy\\lib\\function_base.py\u001b[0m in \u001b[0;36mmedian\u001b[1;34m(a, axis, out, overwrite_input, keepdims)\u001b[0m\n\u001b[0;32m   3495\u001b[0m     \"\"\"\n\u001b[0;32m   3496\u001b[0m     r, k = _ureduce(a, func=_median, axis=axis, out=out,\n\u001b[1;32m-> 3497\u001b[1;33m                     overwrite_input=overwrite_input)\n\u001b[0m\u001b[0;32m   3498\u001b[0m     \u001b[1;32mif\u001b[0m \u001b[0mkeepdims\u001b[0m\u001b[1;33m:\u001b[0m\u001b[1;33m\u001b[0m\u001b[1;33m\u001b[0m\u001b[0m\n\u001b[0;32m   3499\u001b[0m         \u001b[1;32mreturn\u001b[0m \u001b[0mr\u001b[0m\u001b[1;33m.\u001b[0m\u001b[0mreshape\u001b[0m\u001b[1;33m(\u001b[0m\u001b[0mk\u001b[0m\u001b[1;33m)\u001b[0m\u001b[1;33m\u001b[0m\u001b[1;33m\u001b[0m\u001b[0m\n",
      "\u001b[1;32m~\\Anaconda3\\lib\\site-packages\\numpy\\lib\\function_base.py\u001b[0m in \u001b[0;36m_ureduce\u001b[1;34m(a, func, **kwargs)\u001b[0m\n\u001b[0;32m   3403\u001b[0m         \u001b[0mkeepdim\u001b[0m \u001b[1;33m=\u001b[0m \u001b[1;33m(\u001b[0m\u001b[1;36m1\u001b[0m\u001b[1;33m,\u001b[0m\u001b[1;33m)\u001b[0m \u001b[1;33m*\u001b[0m \u001b[0ma\u001b[0m\u001b[1;33m.\u001b[0m\u001b[0mndim\u001b[0m\u001b[1;33m\u001b[0m\u001b[1;33m\u001b[0m\u001b[0m\n\u001b[0;32m   3404\u001b[0m \u001b[1;33m\u001b[0m\u001b[0m\n\u001b[1;32m-> 3405\u001b[1;33m     \u001b[0mr\u001b[0m \u001b[1;33m=\u001b[0m \u001b[0mfunc\u001b[0m\u001b[1;33m(\u001b[0m\u001b[0ma\u001b[0m\u001b[1;33m,\u001b[0m \u001b[1;33m**\u001b[0m\u001b[0mkwargs\u001b[0m\u001b[1;33m)\u001b[0m\u001b[1;33m\u001b[0m\u001b[1;33m\u001b[0m\u001b[0m\n\u001b[0m\u001b[0;32m   3406\u001b[0m     \u001b[1;32mreturn\u001b[0m \u001b[0mr\u001b[0m\u001b[1;33m,\u001b[0m \u001b[0mkeepdim\u001b[0m\u001b[1;33m\u001b[0m\u001b[1;33m\u001b[0m\u001b[0m\n\u001b[0;32m   3407\u001b[0m \u001b[1;33m\u001b[0m\u001b[0m\n",
      "\u001b[1;32m~\\Anaconda3\\lib\\site-packages\\numpy\\lib\\function_base.py\u001b[0m in \u001b[0;36m_median\u001b[1;34m(a, axis, out, overwrite_input)\u001b[0m\n\u001b[0;32m   3528\u001b[0m             \u001b[0mpart\u001b[0m \u001b[1;33m=\u001b[0m \u001b[0ma\u001b[0m\u001b[1;33m\u001b[0m\u001b[1;33m\u001b[0m\u001b[0m\n\u001b[0;32m   3529\u001b[0m     \u001b[1;32melse\u001b[0m\u001b[1;33m:\u001b[0m\u001b[1;33m\u001b[0m\u001b[1;33m\u001b[0m\u001b[0m\n\u001b[1;32m-> 3530\u001b[1;33m         \u001b[0mpart\u001b[0m \u001b[1;33m=\u001b[0m \u001b[0mpartition\u001b[0m\u001b[1;33m(\u001b[0m\u001b[0ma\u001b[0m\u001b[1;33m,\u001b[0m \u001b[0mkth\u001b[0m\u001b[1;33m,\u001b[0m \u001b[0maxis\u001b[0m\u001b[1;33m=\u001b[0m\u001b[0maxis\u001b[0m\u001b[1;33m)\u001b[0m\u001b[1;33m\u001b[0m\u001b[1;33m\u001b[0m\u001b[0m\n\u001b[0m\u001b[0;32m   3531\u001b[0m \u001b[1;33m\u001b[0m\u001b[0m\n\u001b[0;32m   3532\u001b[0m     \u001b[1;32mif\u001b[0m \u001b[0mpart\u001b[0m\u001b[1;33m.\u001b[0m\u001b[0mshape\u001b[0m \u001b[1;33m==\u001b[0m \u001b[1;33m(\u001b[0m\u001b[1;33m)\u001b[0m\u001b[1;33m:\u001b[0m\u001b[1;33m\u001b[0m\u001b[1;33m\u001b[0m\u001b[0m\n",
      "\u001b[1;32m~\\Anaconda3\\lib\\site-packages\\numpy\\core\\fromnumeric.py\u001b[0m in \u001b[0;36mpartition\u001b[1;34m(a, kth, axis, kind, order)\u001b[0m\n\u001b[0;32m    732\u001b[0m     \u001b[1;32melse\u001b[0m\u001b[1;33m:\u001b[0m\u001b[1;33m\u001b[0m\u001b[1;33m\u001b[0m\u001b[0m\n\u001b[0;32m    733\u001b[0m         \u001b[0ma\u001b[0m \u001b[1;33m=\u001b[0m \u001b[0masanyarray\u001b[0m\u001b[1;33m(\u001b[0m\u001b[0ma\u001b[0m\u001b[1;33m)\u001b[0m\u001b[1;33m.\u001b[0m\u001b[0mcopy\u001b[0m\u001b[1;33m(\u001b[0m\u001b[0morder\u001b[0m\u001b[1;33m=\u001b[0m\u001b[1;34m\"K\"\u001b[0m\u001b[1;33m)\u001b[0m\u001b[1;33m\u001b[0m\u001b[1;33m\u001b[0m\u001b[0m\n\u001b[1;32m--> 734\u001b[1;33m     \u001b[0ma\u001b[0m\u001b[1;33m.\u001b[0m\u001b[0mpartition\u001b[0m\u001b[1;33m(\u001b[0m\u001b[0mkth\u001b[0m\u001b[1;33m,\u001b[0m \u001b[0maxis\u001b[0m\u001b[1;33m=\u001b[0m\u001b[0maxis\u001b[0m\u001b[1;33m,\u001b[0m \u001b[0mkind\u001b[0m\u001b[1;33m=\u001b[0m\u001b[0mkind\u001b[0m\u001b[1;33m,\u001b[0m \u001b[0morder\u001b[0m\u001b[1;33m=\u001b[0m\u001b[0morder\u001b[0m\u001b[1;33m)\u001b[0m\u001b[1;33m\u001b[0m\u001b[1;33m\u001b[0m\u001b[0m\n\u001b[0m\u001b[0;32m    735\u001b[0m     \u001b[1;32mreturn\u001b[0m \u001b[0ma\u001b[0m\u001b[1;33m\u001b[0m\u001b[1;33m\u001b[0m\u001b[0m\n\u001b[0;32m    736\u001b[0m \u001b[1;33m\u001b[0m\u001b[0m\n",
      "\u001b[1;31mTypeError\u001b[0m: '<' not supported between instances of 'str' and 'float'"
     ]
    }
   ],
   "source": [
    "data = pd.read_csv(\"Dataset_1_selected_columns.csv\")\n",
    "\n",
    "graded_docs = data[data[\"grade\"].notna() & data[\"otvCustomerType\"].notna()]\n",
    "\n",
    "check_hypo(graded_docs,\"grade\", graded_docs,\"otvCustomerType\")"
   ]
  },
  {
   "cell_type": "code",
   "execution_count": 18,
   "metadata": {},
   "outputs": [
    {
     "data": {
      "text/plain": [
       "158183"
      ]
     },
     "execution_count": 18,
     "metadata": {},
     "output_type": "execute_result"
    }
   ],
   "source": []
  },
  {
   "cell_type": "markdown",
   "metadata": {},
   "source": [
    "## Doctors who give consultations in multiple locations"
   ]
  },
  {
   "cell_type": "code",
   "execution_count": null,
   "metadata": {},
   "outputs": [],
   "source": []
  },
  {
   "cell_type": "markdown",
   "metadata": {},
   "source": [
    "# The older patient population give better ratings than their younger group."
   ]
  },
  {
   "cell_type": "code",
   "execution_count": 19,
   "metadata": {},
   "outputs": [],
   "source": [
    "old_patients = doc_pat_data[doc_pat_data[\"age\"]  == \"über 50\"]\n",
    "young_patients = doc_pat_data[doc_pat_data[\"age\"]  == \"unter 30\"]"
   ]
  },
  {
   "cell_type": "code",
   "execution_count": 20,
   "metadata": {},
   "outputs": [
    {
     "name": "stdout",
     "output_type": "stream",
     "text": [
      "\n",
      " From Median Test:\n",
      "p-val: 2.059593723750407e-140 Different distributions (reject H0)\n",
      "\n",
      " From Mann-Whitney U Test:\n",
      "p-val: 2.793609948773142e-178 Different distributions (reject H0)\n",
      "\n",
      " From Kruskal-Wallis H Test\n",
      "p-val: 1.0 Same distributions (fail to reject H0)\n"
     ]
    }
   ],
   "source": [
    "check_hypo(old_patients,\"grade_y\", young_patients,\"grade_y\")\n"
   ]
  },
  {
   "cell_type": "markdown",
   "metadata": {},
   "source": [
    "# Patients covered by private health insurance give more favorable evaluations than patients covered by statutory health insurance"
   ]
  },
  {
   "cell_type": "code",
   "execution_count": 30,
   "metadata": {},
   "outputs": [
    {
     "data": {
      "text/plain": [
       "array([nan, 'STATUTORY', 'PRIVATE'], dtype=object)"
      ]
     },
     "execution_count": 30,
     "metadata": {},
     "output_type": "execute_result"
    }
   ],
   "source": [
    "# doc_pat_data[\"insurance\"].unique()\n",
    "\n",
    "private_ins_patients = doc_pat_data[doc_pat_data[\"insurance\"].isin(['PRIVATE'])]\n",
    "statutory_ins_patients = doc_pat_data[doc_pat_data[\"insurance\"].isin(['STATUTORY'])]"
   ]
  },
  {
   "cell_type": "code",
   "execution_count": 33,
   "metadata": {},
   "outputs": [
    {
     "name": "stdout",
     "output_type": "stream",
     "text": [
      "\n",
      " From Median Test:\n",
      "p-val: 1.509362288102909e-37 Different distributions (reject H0)\n",
      "\n",
      " From Mann-Whitney U Test:\n",
      "p-val: 3.801659888438282e-47 Different distributions (reject H0)\n",
      "\n",
      " From Kruskal-Wallis H Test\n",
      "p-val: 0.0 Different distributions (reject H0)\n"
     ]
    }
   ],
   "source": [
    "check_hypo(private_ins_patients,\"grade_y\", statutory_ins_patients,\"grade_y\")"
   ]
  }
 ],
 "metadata": {
  "kernelspec": {
   "display_name": "Python 3",
   "language": "python",
   "name": "python3"
  },
  "language_info": {
   "codemirror_mode": {
    "name": "ipython",
    "version": 3
   },
   "file_extension": ".py",
   "mimetype": "text/x-python",
   "name": "python",
   "nbconvert_exporter": "python",
   "pygments_lexer": "ipython3",
   "version": "3.7.3"
  },
  "toc": {
   "base_numbering": 1,
   "nav_menu": {},
   "number_sections": true,
   "sideBar": true,
   "skip_h1_title": false,
   "title_cell": "Table of Contents",
   "title_sidebar": "Contents",
   "toc_cell": false,
   "toc_position": {},
   "toc_section_display": true,
   "toc_window_display": false
  }
 },
 "nbformat": 4,
 "nbformat_minor": 2
}
